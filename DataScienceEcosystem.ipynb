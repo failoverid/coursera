{
 "cells": [
  {
   "cell_type": "markdown",
   "id": "bb05069a-21ea-4e8a-96ff-b65cda276476",
   "metadata": {},
   "source": [
    "# Data Science Tools and Ecosystem"
   ]
  },
  {
   "cell_type": "markdown",
   "id": "0212758e-5235-4dfc-ad80-73cede5e479e",
   "metadata": {},
   "source": [
    "In this notebook, Data Science Tools and Ecosystem are summarized, offering insights into key methodologies, programming languages, and frameworks essential for modern data analysis and machine learning applications."
   ]
  },
  {
   "cell_type": "markdown",
   "id": "2a5cd129-d0aa-495f-9441-5f16ef0cb7ab",
   "metadata": {},
   "source": [
    "Some of the popular languages that Data Scientists use are:\n",
    "\n",
    "1. Python\n",
    "2. SQL\n",
    "3. R"
   ]
  },
  {
   "cell_type": "markdown",
   "id": "005e3482-d5c3-46d3-af2f-da0dc88ca850",
   "metadata": {},
   "source": [
    "Some of the commonly used libraries used by Data Scientists include:\r\n",
    "\r\n",
    "1. NumPy\r\n",
    "2. Pandas\r\n",
    "3. Scikit-learn"
   ]
  },
  {
   "cell_type": "markdown",
   "id": "407af42c-92e9-4438-bcf0-e832a8af3576",
   "metadata": {},
   "source": [
    "| Data Science Tools |\r\n",
    "|---------------------|\r\n",
    "| Jupyter Notebook    |\r\n",
    "| RStudio             |\r\n",
    "| VS C           thon |\r\n"
   ]
  },
  {
   "cell_type": "markdown",
   "id": "92048f7e-2ebb-467c-b00b-4bc27782de6a",
   "metadata": {},
   "source": [
    "### Below are a few examples of evaluating arithmetic expressions in Python."
   ]
  },
  {
   "cell_type": "code",
   "execution_count": 5,
   "id": "ecea2670-190e-45a8-84b6-8d50bdffce37",
   "metadata": {},
   "outputs": [
    {
     "name": "stdout",
     "output_type": "stream",
     "text": [
      "17\n"
     ]
    }
   ],
   "source": [
    "# This is a simple arithmetic expression to multiply then add integers.\n",
    "result = (3 * 4) + 5\n",
    "print(result)"
   ]
  },
  {
   "cell_type": "code",
   "execution_count": 4,
   "id": "d5f44cb7-3a05-4495-8b8b-95f5cc0340e6",
   "metadata": {},
   "outputs": [
    {
     "name": "stdout",
     "output_type": "stream",
     "text": [
      "3.3333333333333335\n"
     ]
    }
   ],
   "source": [
    "# This will convert 200 minutes to hours by dividing by 60.\n",
    "hours = 200 / 60\n",
    "print(hours)"
   ]
  },
  {
   "cell_type": "markdown",
   "id": "958d1b50-fe25-4296-ad3d-b11a4999b99d",
   "metadata": {},
   "source": [
    "**Objective:**\n",
    "\n",
    "- List popular languages for Data Science.\n",
    "- Introduce common development environments for Data Science.\n",
    "- Demonstrate basic arithmetic operations in Python.\n",
    "- Show how to convert units using Python expressions.\n",
    "- Practice using Markdown for formatting in Jupyter notebooks."
   ]
  },
  {
   "cell_type": "markdown",
   "id": "72871387-15d6-463c-b00f-e5823c619b14",
   "metadata": {},
   "source": [
    "## Author\n",
    "\n",
    "Alfansyah Putra Raja Dinata"
   ]
  }
 ],
 "metadata": {
  "kernelspec": {
   "display_name": "Python 3 (ipykernel)",
   "language": "python",
   "name": "python3"
  },
  "language_info": {
   "codemirror_mode": {
    "name": "ipython",
    "version": 3
   },
   "file_extension": ".py",
   "mimetype": "text/x-python",
   "name": "python",
   "nbconvert_exporter": "python",
   "pygments_lexer": "ipython3",
   "version": "3.8.18"
  }
 },
 "nbformat": 4,
 "nbformat_minor": 5
}
